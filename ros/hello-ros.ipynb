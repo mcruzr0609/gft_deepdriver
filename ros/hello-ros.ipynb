{
 "cells": [
  {
   "cell_type": "code",
   "execution_count": null,
   "id": "about-thomas",
   "metadata": {},
   "outputs": [
    {
     "name": "stdout",
     "output_type": "stream",
     "text": [
      "[INFO] [1615423351.262090]: /talker_387_1615423189445I heard Hola mundo\n",
      "[INFO] [1615423365.796002]: /talker_387_1615423189445I heard Hola mundo 23232131231\n"
     ]
    }
   ],
   "source": [
    "import rospy\n",
    "from std_msgs.msg import String\n",
    " \n",
    "def talker():\n",
    "    pub = rospy.Publisher('chatter', String, queue_size=10)\n",
    "    rate = rospy.Rate(10) # 10hz\n",
    "    while not rospy.is_shutdown():\n",
    "        hello_str = \"hello world %s\" % rospy.get_time()\n",
    "        pub.publish(hello_str)\n",
    "        rate.sleep()\n",
    "\n",
    "def callback(data):\n",
    "    rospy.loginfo(rospy.get_caller_id() + \"I heard %s\", data.data)\n",
    "          \n",
    "try:\n",
    "    rospy.init_node('talker', anonymous=True)\n",
    "    rospy.Subscriber(\"chatter_l\", String, callback)\n",
    "    talker()\n",
    "except rospy.ROSInterruptException:\n",
    "    pass        "
   ]
  },
  {
   "cell_type": "code",
   "execution_count": null,
   "id": "verbal-frank",
   "metadata": {},
   "outputs": [],
   "source": []
  }
 ],
 "metadata": {
  "kernelspec": {
   "display_name": "Python 3",
   "language": "python",
   "name": "python3"
  },
  "language_info": {
   "codemirror_mode": {
    "name": "ipython",
    "version": 3
   },
   "file_extension": ".py",
   "mimetype": "text/x-python",
   "name": "python",
   "nbconvert_exporter": "python",
   "pygments_lexer": "ipython3",
   "version": "3.8.5"
  }
 },
 "nbformat": 4,
 "nbformat_minor": 5
}
